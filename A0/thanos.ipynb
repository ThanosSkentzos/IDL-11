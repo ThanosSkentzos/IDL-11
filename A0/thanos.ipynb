{
 "cells": [
  {
   "cell_type": "code",
   "execution_count": 1,
   "metadata": {},
   "outputs": [],
   "source": [
    "!pip install -q -r ../requirements.txt"
   ]
  },
  {
   "cell_type": "code",
   "execution_count": 2,
   "metadata": {},
   "outputs": [],
   "source": [
    "import pandas as pd\n",
    "import numpy as np\n",
    "import matplotlib.pyplot as plt\n",
    "from math import dist"
   ]
  },
  {
   "cell_type": "markdown",
   "metadata": {},
   "source": [
    "** Read Data**\n",
    "\n",
    "---"
   ]
  },
  {
   "cell_type": "code",
   "execution_count": 3,
   "metadata": {},
   "outputs": [],
   "source": [
    "test_in = pd.read_csv(\"test_in.csv\",index_col=None)\n",
    "test_in.shape\n",
    "im = test_in.iloc[0].values.reshape((16,16))\n",
    "# plt.imshow(im)"
   ]
  },
  {
   "cell_type": "code",
   "execution_count": 4,
   "metadata": {},
   "outputs": [],
   "source": [
    "def no_index_read():\n",
    "    def func(input:str):\n",
    "        return pd.read_csv(input,index_col=None)\n",
    "    return func\n",
    "read_csv = no_index_read()"
   ]
  },
  {
   "cell_type": "code",
   "execution_count": 5,
   "metadata": {},
   "outputs": [],
   "source": [
    "test_in = read_csv(\"test_in.csv\")\n",
    "test_out = read_csv(\"test_out.csv\")\n",
    "train_in = read_csv(\"train_in.csv\")\n",
    "train_out = read_csv(\"train_out.csv\")"
   ]
  },
  {
   "cell_type": "markdown",
   "metadata": {},
   "source": [
    "**1.1**  \n",
    "\n",
    "---\n",
    "We have to:\n",
    "- find centers\n",
    "- calculate distances between centers\n",
    "- explain what we expect about the accuracy of the model\n",
    "- what pairs are most difficult to separate?\n",
    "---\n"
   ]
  },
  {
   "cell_type": "code",
   "execution_count": 6,
   "metadata": {},
   "outputs": [],
   "source": [
    "# CALCULATE CENTERS\n",
    "digits = sorted(list(set(train_out.values.flatten())))\n",
    "centers = {}\n",
    "for d in digits:\n",
    "    centers[d] = train_in.iloc[(train_out == d).values].mean(axis=0)"
   ]
  },
  {
   "cell_type": "code",
   "execution_count": 7,
   "metadata": {},
   "outputs": [],
   "source": [
    "# CALCULATE DISTANCES BETWEEN CENTERS\n",
    "distances = np.zeros((len(digits),len(digits)))\n",
    "for d1 in digits:\n",
    "    for d2 in digits:\n",
    "        distances[d1,d2] = dist(centers[d1],centers[d2])"
   ]
  },
  {
   "cell_type": "code",
   "execution_count": null,
   "metadata": {},
   "outputs": [],
   "source": [
    "# VISUALIZE DISTANCES\n",
    "plt.imshow(distances,cmap=\"gnuplot\")\n",
    "plt.xticks(digits)\n",
    "plt.yticks(digits)\n",
    "plt.colorbar()\n",
    "plt.show()"
   ]
  },
  {
   "cell_type": "markdown",
   "metadata": {},
   "source": [
    "Using this scale it is easy for us to notice similarities in the puple areas where the eucledian distance is low.\n",
    "- 4 is similar to 5 and a bit with 6\n",
    "- 9 is similar to 4 and 7 and a bit with 8\n",
    "- 0 and 1 are very different between them"
   ]
  },
  {
   "cell_type": "markdown",
   "metadata": {},
   "source": [
    "**1.2**\n",
    "\n",
    "---\n",
    "Use:\n",
    "- PCA\n",
    "- U-MAP\n",
    "- T-SNE\n",
    "on the MNIST dataset\n",
    "---"
   ]
  },
  {
   "cell_type": "code",
   "execution_count": null,
   "metadata": {},
   "outputs": [],
   "source": [
    "# PCA\n",
    "from sklearn.decomposition import PCA\n",
    "pca = PCA(n_components=2)\n",
    "\n",
    "pca_2d = pca.fit_transform(train_in)\n",
    "def plot2d(arr_2d,title):\n",
    "    x = arr_2d[:,0]\n",
    "    y = arr_2d[:,1]\n",
    "    plt.scatter(x,y,c=train_out.values.flatten(),cmap=\"tab10\")\n",
    "    plt.colorbar()\n",
    "    plt.title(title)\n",
    "plot2d(pca_2d,\"PCA\")"
   ]
  },
  {
   "cell_type": "markdown",
   "metadata": {},
   "source": [
    "We can see that PCA results create an overall non separable data distribution.\n",
    "- 1 highly separable\n",
    "- 0 has a part that is away from anything else\n",
    "- all the other numbers are blended with at least 2 other numbers"
   ]
  },
  {
   "cell_type": "code",
   "execution_count": null,
   "metadata": {},
   "outputs": [],
   "source": [
    "# UMAP\n",
    "import umap\n",
    "reducer = umap.UMAP()\n",
    "umap_2d = reducer.fit_transform(train_in)\n",
    "plot2d(umap_2d,\"UMAP\")"
   ]
  },
  {
   "cell_type": "markdown",
   "metadata": {},
   "source": [
    "UMAP makes a much better job of gathering most of the items from a class close together\n",
    "Some classes are still bounded close together\n",
    "- 0 with 6\n",
    "- 3,8,5 \n",
    "- 9,4,7 (same as what we expected from centers)\n",
    "- 1 with some 4s\n",
    "- 2 stands alone but in between everything\n",
    "\n"
   ]
  },
  {
   "cell_type": "code",
   "execution_count": null,
   "metadata": {},
   "outputs": [],
   "source": [
    "#T-SNE\n",
    "from sklearn.manifold import TSNE\n",
    "reducer = TSNE()\n",
    "tsne_2d = reducer.fit_transform(train_in)\n",
    "plot2d(tsne_2d,\"TSNE\")"
   ]
  },
  {
   "cell_type": "markdown",
   "metadata": {},
   "source": [
    "Similar results with UMAP but manages to separate 6 with 0\n",
    "- 1 alone (again with little amount of 4s)\n",
    "- 4,9,7\n",
    "- 2 in the middle\n",
    "- 3,5,8 (bottom right)\n",
    "- 0 to the right\n",
    "- 6 at the top"
   ]
  }
 ],
 "metadata": {
  "kernelspec": {
   "display_name": "IDL",
   "language": "python",
   "name": "python3"
  },
  "language_info": {
   "codemirror_mode": {
    "name": "ipython",
    "version": 3
   },
   "file_extension": ".py",
   "mimetype": "text/x-python",
   "name": "python",
   "nbconvert_exporter": "python",
   "pygments_lexer": "ipython3",
   "version": "3.9.19"
  }
 },
 "nbformat": 4,
 "nbformat_minor": 2
}
