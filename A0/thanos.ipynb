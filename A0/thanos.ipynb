{
 "cells": [
  {
   "cell_type": "code",
   "execution_count": 37,
   "metadata": {},
   "outputs": [],
   "source": [
    "!pip install -q -r ../requirements.txt"
   ]
  },
  {
   "cell_type": "code",
   "execution_count": 38,
   "metadata": {},
   "outputs": [],
   "source": [
    "import pandas as pd\n",
    "import numpy as np\n",
    "import matplotlib.pyplot as plt\n",
    "from math import dist"
   ]
  },
  {
   "cell_type": "markdown",
   "metadata": {},
   "source": [
    "** Read Data**\n",
    "\n",
    "---"
   ]
  },
  {
   "cell_type": "code",
   "execution_count": 39,
   "metadata": {},
   "outputs": [],
   "source": [
    "test_in = pd.read_csv(\"test_in.csv\",index_col=None)\n",
    "test_in.shape\n",
    "im = test_in.iloc[0].values.reshape((16,16))\n",
    "# plt.imshow(im)"
   ]
  },
  {
   "cell_type": "code",
   "execution_count": 40,
   "metadata": {},
   "outputs": [],
   "source": [
    "def no_index_read():\n",
    "    def func(input:str):\n",
    "        return pd.read_csv(input,index_col=None)\n",
    "    return func\n",
    "read_csv = no_index_read()"
   ]
  },
  {
   "cell_type": "code",
   "execution_count": 41,
   "metadata": {},
   "outputs": [],
   "source": [
    "test_in = read_csv(\"test_in.csv\")\n",
    "test_out = read_csv(\"test_out.csv\")\n",
    "train_in = read_csv(\"train_in.csv\")\n",
    "train_out = read_csv(\"train_out.csv\")"
   ]
  },
  {
   "cell_type": "markdown",
   "metadata": {},
   "source": [
    "**1.1**  \n",
    "\n",
    "---\n",
    "We have to:\n",
    "- find centers\n",
    "- calculate distances between centers\n",
    "- explain what we expect about the accuracy of the model\n",
    "- what pairs are most difficult to separate?\n",
    "---\n"
   ]
  },
  {
   "cell_type": "code",
   "execution_count": 42,
   "metadata": {},
   "outputs": [],
   "source": [
    "# CALCULATE CENTERS\n",
    "digits = sorted(list(set(train_out.values.flatten())))\n",
    "centers = {}\n",
    "for d in digits:\n",
    "    centers[d] = train_in.iloc[(train_out == d).values].mean(axis=0)"
   ]
  },
  {
   "cell_type": "code",
   "execution_count": 43,
   "metadata": {},
   "outputs": [],
   "source": [
    "# CALCULATE DISTANCES BETWEEN CENTERS\n",
    "distances = np.zeros((len(digits),len(digits)))\n",
    "for d1 in digits:\n",
    "    for d2 in digits:\n",
    "        distances[d1,d2] = dist(centers[d1],centers[d2])"
   ]
  },
  {
   "cell_type": "code",
   "execution_count": null,
   "metadata": {},
   "outputs": [],
   "source": [
    "# VISUALIZE DISTANCES\n",
    "plt.imshow(distances,cmap=\"gnuplot\")\n",
    "plt.xticks(digits)\n",
    "plt.yticks(digits)\n",
    "plt.colorbar()\n",
    "plt.show()"
   ]
  },
  {
   "cell_type": "markdown",
   "metadata": {},
   "source": [
    "Using this scale it is easy for us to notice similarities in the puple areas where the eucledian distance is low.\n",
    "- 4 is similar to 5 and a bit with 6\n",
    "- 9 is similar to 4 and 7 and a bit with 8\n",
    "- 0 and 1 are very different"
   ]
  },
  {
   "cell_type": "markdown",
   "metadata": {},
   "source": [
    "**1.2**\n",
    "\n",
    "---\n",
    "Use:\n",
    "- PCA\n",
    "- U-MAP\n",
    "- T-SNE\n",
    "on the MNIST dataset\n",
    "---"
   ]
  },
  {
   "cell_type": "code",
   "execution_count": null,
   "metadata": {},
   "outputs": [],
   "source": []
  }
 ],
 "metadata": {
  "kernelspec": {
   "display_name": "IDL",
   "language": "python",
   "name": "python3"
  },
  "language_info": {
   "codemirror_mode": {
    "name": "ipython",
    "version": 3
   },
   "file_extension": ".py",
   "mimetype": "text/x-python",
   "name": "python",
   "nbconvert_exporter": "python",
   "pygments_lexer": "ipython3",
   "version": "3.9.19"
  }
 },
 "nbformat": 4,
 "nbformat_minor": 2
}
