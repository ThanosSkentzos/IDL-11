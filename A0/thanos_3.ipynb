{
 "cells": [
  {
   "cell_type": "code",
   "execution_count": 1,
   "metadata": {},
   "outputs": [],
   "source": [
    "import numpy as np\n",
    "import matplotlib.pyplot as plt\n",
    "\n",
    "def sigmoid(x):\n",
    "  return 1 / (1 + np.exp(-x))"
   ]
  },
  {
   "cell_type": "code",
   "execution_count": 2,
   "metadata": {},
   "outputs": [
    {
     "data": {
      "text/plain": [
       "((4, 3), (4, 1))"
      ]
     },
     "execution_count": 2,
     "metadata": {},
     "output_type": "execute_result"
    }
   ],
   "source": [
    "w1 = np.random.random([3,2])\n",
    "w2 = np.random.random([3,1])\n",
    "w1_init = w1.copy()\n",
    "w2_init = w2.copy()\n",
    "\n",
    "input,y = np.array([[0,0],[0,1],[1,0],[1,1]]),np.array([0,1,1,0])\n",
    "y = y.reshape(len(input),1)\n",
    "\n",
    "if len(input.shape)<2:\n",
    "    input = input.reshape(1,len(input))\n",
    "bias = np.ones([input.shape[0],1])\n",
    "x = np.concatenate([bias,input],axis=1)\n",
    "x.shape,y.shape"
   ]
  },
  {
   "cell_type": "code",
   "execution_count": 3,
   "metadata": {},
   "outputs": [
    {
     "data": {
      "text/plain": [
       "array([[0.76188237],\n",
       "       [0.77295996],\n",
       "       [0.76417783],\n",
       "       [0.77439419]])"
      ]
     },
     "execution_count": 3,
     "metadata": {},
     "output_type": "execute_result"
    }
   ],
   "source": [
    "def inference(x,w1,w2):\n",
    "    p1 = x@w1\n",
    "    a1 = sigmoid(p1)\n",
    "    h = np.concatenate([bias,a1],axis=1)\n",
    "    p2 = h@w2\n",
    "    y = sigmoid(p2)\n",
    "    return y\n",
    "inference(x,w1,w2)"
   ]
  },
  {
   "cell_type": "code",
   "execution_count": 4,
   "metadata": {},
   "outputs": [],
   "source": [
    "def error(y_pred,y_real):\n",
    "    return np.sum((y_real-y_pred)**2)"
   ]
  },
  {
   "cell_type": "code",
   "execution_count": 5,
   "metadata": {},
   "outputs": [
    {
     "data": {
      "text/plain": [
       "((3, 2), (3, 1))"
      ]
     },
     "execution_count": 5,
     "metadata": {},
     "output_type": "execute_result"
    }
   ],
   "source": [
    "def gradients(x,w1,w2,y):\n",
    "    if len(x.shape)<2:\n",
    "        x = x.reshape(1,len(x))\n",
    "    if len(y.shape)<2:\n",
    "        y = y.reshape(1,len(y))\n",
    "    targets = np.zeros(1)\n",
    "\n",
    "    # inference\n",
    "    p1 = x@w1\n",
    "    a1 = sigmoid(p1)\n",
    "    h = np.concatenate([bias,a1],axis=1)\n",
    "    p2 = h@w2\n",
    "    preds = sigmoid(p2)\n",
    "    y_pred = np.where(preds>0.5,1,0)\n",
    "    # final layer\n",
    "    diff = y - preds\n",
    "    grad_diff = preds*(1-preds)\n",
    "    # diff = diff.sum(axis=1)\n",
    "    # grad_diff = grad_diff.sum(axis=1)\n",
    "    deltas2 = h.T@(diff*grad_diff) #a1 or p1? probably p1\n",
    "\n",
    "    # first layer\n",
    "    deltas1=  x.T@a1\n",
    "    return deltas1,deltas2\n",
    "dw1,dw2 = gradients(x,w1,w2,y)\n",
    "dw1.shape,dw2.shape"
   ]
  },
  {
   "cell_type": "code",
   "execution_count": 18,
   "metadata": {},
   "outputs": [
    {
     "data": {
      "text/plain": [
       "[<matplotlib.lines.Line2D at 0x79c5243fc970>]"
      ]
     },
     "execution_count": 18,
     "metadata": {},
     "output_type": "execute_result"
    },
    {
     "data": {
      "image/png": "[encoded data removed]",
      "text/plain": [
       "<Figure size 640x480 with 1 Axes>"
      ]
     },
     "metadata": {},
     "output_type": "display_data"
    }
   ],
   "source": [
    "losses = []\n",
    "def backpropagation(x,w1,w2,y,lr=0.3):\n",
    "    w1,w2 = w1_init.copy(),w2_init.copy()\n",
    "    for _ in range(42):\n",
    "        dw1, dw2 = gradients(x,w1,w2,y)\n",
    "        w1 += lr*dw1\n",
    "        w2 += lr*dw2\n",
    "        pred = inference(x,w1,w2)\n",
    "        loss = error(pred,y)\n",
    "        losses.append(loss)\n",
    "backpropagation(x,w1,w2,y)\n",
    "plt.plot(losses)"
   ]
  }
 ],
 "metadata": {
  "kernelspec": {
   "display_name": "IDL",
   "language": "python",
   "name": "python3"
  },
  "language_info": {
   "codemirror_mode": {
    "name": "ipython",
    "version": 3
   },
   "file_extension": ".py",
   "mimetype": "text/x-python",
   "name": "python",
   "nbconvert_exporter": "python",
   "pygments_lexer": "ipython3",
   "version": "3.9.19"
  }
 },
 "nbformat": 4,
 "nbformat_minor": 2
}
