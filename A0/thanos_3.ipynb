{
 "cells": [
  {
   "cell_type": "code",
   "execution_count": 1,
   "metadata": {},
   "outputs": [],
   "source": [
    "import numpy as np\n",
    "import matplotlib.pyplot as plt\n",
    "\n",
    "def sigmoid(x):\n",
    "  return 1 / (1 + np.exp(-x))"
   ]
  },
  {
   "cell_type": "code",
   "execution_count": null,
   "metadata": {},
   "outputs": [],
   "source": [
    "w1 = np.random.random([3,2])\n",
    "w2 = np.random.random([3,1])\n",
    "\n",
    "w1_init = w1.copy()\n",
    "w2_init = w2.copy()\n",
    "\n",
    "x,y = np.array([[0,0],[0,1],[1,0],[1,1]]),np.array([0,1,1,0])\n",
    "x,y = np.array([0,0]), np.array([0])\n",
    "if len(x.shape)<2:\n",
    "    x = x.reshape(1,len(x))\n",
    "y = y.reshape(len(x),1)\n",
    "\n",
    "\n",
    "x.shape,y.shape"
   ]
  },
  {
   "cell_type": "code",
   "execution_count": null,
   "metadata": {},
   "outputs": [],
   "source": [
    "def inference(x,w1,w2):\n",
    "    bias = np.ones([x.shape[0],1])\n",
    "    \n",
    "    # forward pass\n",
    "    # first layer\n",
    "    i1 = np.concatenate([bias,x],axis=1)\n",
    "    a1 = i1@w1\n",
    "    h1 = sigmoid(a1)\n",
    "    # second layer\n",
    "    i2= np.concatenate([bias,h1],axis=1)\n",
    "    a2 = i2@w2\n",
    "    h2 = sigmoid(a2)\n",
    "\n",
    "    y_preds = np.where(h2>0.5,1,0)\n",
    "    return h2\n",
    "    return y_pred\n",
    "y_pred = inference(x,w1,w2)\n",
    "y_pred"
   ]
  },
  {
   "cell_type": "code",
   "execution_count": null,
   "metadata": {},
   "outputs": [],
   "source": [
    "def error(y_pred,y_real):\n",
    "    return np.sum((y_real-y_pred)**2)\n",
    "error(y_pred,y)\n",
    "y_pred"
   ]
  },
  {
   "cell_type": "code",
   "execution_count": null,
   "metadata": {},
   "outputs": [],
   "source": [
    "def gradients(x,w1,w2,y):\n",
    "    if len(x.shape)<2:\n",
    "        x = x.reshape(1,len(x))\n",
    "    if len(y.shape)<2:\n",
    "        y = y.reshape(1,len(y))\n",
    "\n",
    "    bias = np.ones([x.shape[0],1])\n",
    "    \n",
    "    # forward pass\n",
    "    # first layer\n",
    "    i1 = np.concatenate([bias,x],axis=1)\n",
    "    a1 = i1@w1\n",
    "    h1 = sigmoid(a1)\n",
    "    # second layer\n",
    "    i2= np.concatenate([bias,h1],axis=1)\n",
    "    a2 = i2@w2\n",
    "    h2 = sigmoid(a2)\n",
    "\n",
    "    y_preds = np.where(h2>0.5,1,0)\n",
    "\n",
    "    # backward pass\n",
    "    # second layer back\n",
    "    out_error = y - h2\n",
    "    gso = a2*(1-a2) # is always 0 uf you use y_preds\n",
    "    dout = out_error*gso\n",
    "    # diff = diff.sum(axis=1)\n",
    "    # grad_diff = grad_diff.sum(axis=1)\n",
    "    dw2 = i2.T@dout/i2.shape[0] # (3,4)@(4,1) --> (3,1) == w2.shape [✔]\n",
    "\n",
    "    # first layer back\n",
    "    Σdw = dout@w2.T\n",
    "    Σdw = Σdw[:,1:] # ignore bias because it doesnt go back\n",
    "    gs2 = a1*(1-a1)\n",
    "    d2 = Σdw*gs2 # (4,2)*(4,2) --> (4,2) = (input_size,node_size) [✔]\n",
    "    \n",
    "    # weight diffs\n",
    "    dw1 = i1.T@d2/i1.shape[0] #(3,4)@(4,2) --> (3,2) == w1.shape  [✔]\n",
    "    return dw1,dw2\n",
    "dw1,dw2 = gradients(x,w1,w2,y)\n",
    "dw1.shape,dw2.shape"
   ]
  },
  {
   "cell_type": "code",
   "execution_count": null,
   "metadata": {},
   "outputs": [],
   "source": [
    "losses = []\n",
    "def backpropagation(x,w1,w2,y,lr=0.1):\n",
    "    w1,w2 = w1_init.copy(),w2_init.copy()\n",
    "    for _ in range(1000):\n",
    "        dw1, dw2 = gradients(x,w1,w2,y)\n",
    "        w1 -= lr*dw1\n",
    "        w2 -= lr*dw2\n",
    "        pred = inference(x,w1,w2)\n",
    "        loss = error(pred,y)\n",
    "        losses.append(loss)\n",
    "    return w1,w2\n",
    "w1,w2 = backpropagation(x,w1,w2,y)\n",
    "plt.plot(losses)\n",
    "# pred = inference(x,w1,w2)\n",
    "# pred\n",
    "w1,w2"
   ]
  },
  {
   "cell_type": "code",
   "execution_count": null,
   "metadata": {},
   "outputs": [],
   "source": [
    "xmin = -0.1\n",
    "xmax = 1.1\n",
    "x1_points = np.arange(xmin,xmax,0.05)\n",
    "x2_points = np.arange(xmin,xmax,0.05)\n",
    "xx,yy = np.meshgrid(x1_points,x2_points)\n",
    "r1,r2 = xx.flatten(),yy.flatten()\n",
    "r1, r2 = r1.reshape((len(r1), 1)), r2.reshape((len(r2), 1))\n",
    "grid = np.hstack((r1,r2))\n",
    "\n",
    "grid_vals = inference(grid,w1,w2)\n",
    "zz = grid_vals.reshape(xx.shape)\n",
    "grid_vals.shape,zz.shape\n",
    "plt.contourf(xx,yy,zz,cmap='Reds')\n",
    "plt.colorbar()\n"
   ]
  },
  {
   "cell_type": "code",
   "execution_count": null,
   "metadata": {},
   "outputs": [],
   "source": [
    "\n",
    "w1_mine = np.array([[30,-10],[20,20],[20,20]])\n",
    "w2_mine = np.array([10,-20,-20]).reshape(3,1)\n",
    "w1_mine,w2_mine\n",
    "\n",
    "\n",
    "xmin = -0.1\n",
    "xmax = 1.1\n",
    "x1_points = np.arange(xmin,xmax,0.05)\n",
    "x2_points = np.arange(xmin,xmax,0.05)\n",
    "xx,yy = np.meshgrid(x1_points,x2_points)\n",
    "r1,r2 = xx.flatten(),yy.flatten()\n",
    "r1, r2 = r1.reshape((len(r1), 1)), r2.reshape((len(r2), 1))\n",
    "grid = np.hstack((r1,r2))\n",
    "\n",
    "grid_vals = inference(grid,w1_mine,w2_mine)\n",
    "zz = grid_vals.reshape(xx.shape)\n",
    "grid_vals.shape,zz.shape\n",
    "plt.contourf(xx,yy,zz,cmap='Reds')\n",
    "plt.colorbar()"
   ]
  },
  {
   "cell_type": "code",
   "execution_count": null,
   "metadata": {},
   "outputs": [],
   "source": []
  }
 ],
 "metadata": {
  "kernelspec": {
   "display_name": "IDL",
   "language": "python",
   "name": "python3"
  },
  "language_info": {
   "codemirror_mode": {
    "name": "ipython",
    "version": 3
   },
   "file_extension": ".py",
   "mimetype": "text/x-python",
   "name": "python",
   "nbconvert_exporter": "python",
   "pygments_lexer": "ipython3",
   "version": "3.9.19"
  }
 },
 "nbformat": 4,
 "nbformat_minor": 2
}
