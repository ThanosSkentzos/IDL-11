{
 "cells": [
  {
   "cell_type": "code",
   "execution_count": 1,
   "metadata": {},
   "outputs": [],
   "source": [
    "import pandas as pd\n",
    "import numpy as np\n",
    "import matplotlib.pyplot as plt\n",
    "from tqdm.notebook import tqdm"
   ]
  },
  {
   "cell_type": "code",
   "execution_count": 2,
   "metadata": {},
   "outputs": [
    {
     "data": {
      "text/plain": [
       "(1707, 256)"
      ]
     },
     "execution_count": 2,
     "metadata": {},
     "output_type": "execute_result"
    }
   ],
   "source": [
    "def no_index_read():\n",
    "    def func(input:str):\n",
    "        return pd.read_csv(input,index_col=None,header=None)\n",
    "    return func\n",
    "read_csv = no_index_read()\n",
    "\n",
    "test_in = read_csv(\"test_in.csv\")\n",
    "test_out = read_csv(\"test_out.csv\")\n",
    "train_in = read_csv(\"train_in.csv\")\n",
    "train_out = read_csv(\"train_out.csv\")\n",
    "digits = sorted(list(set(train_out.values.flatten())))\n",
    "\n",
    "train_in.shape"
   ]
  },
  {
   "cell_type": "markdown",
   "metadata": {},
   "source": [
    "---\n",
    "![Perceptron Model](../img/perceptron.png)"
   ]
  },
  {
   "cell_type": "code",
   "execution_count": 17,
   "metadata": {},
   "outputs": [],
   "source": [
    "#PERCEPTRON\n",
    "df_x = train_in.copy(deep=True)\n",
    "df_x[\"bias\"] = 1\n",
    "x = df_x.values\n",
    "\n",
    "df_x_test = test_in.copy(deep=True)\n",
    "df_x_test[\"bias\"] = 1\n",
    "x_test = df_x_test.values\n",
    "\n",
    "y_real = train_out.values.flatten()\n",
    "y_test_real = test_out.values.flatten()\n",
    "\n",
    "in_shape = x.shape[1]\n",
    "out_shape = len(digits)\n",
    "np.random.seed=(42)\n",
    "w = np.random.random([in_shape,out_shape])"
   ]
  },
  {
   "cell_type": "code",
   "execution_count": 18,
   "metadata": {},
   "outputs": [
    {
     "data": {
      "text/plain": [
       "((1707, 257), (257, 10), (1707, 1), (1707,), 'shapes look good!')"
      ]
     },
     "execution_count": 18,
     "metadata": {},
     "output_type": "execute_result"
    }
   ],
   "source": [
    "# PERCEPTRON WITH argmax\n",
    "def perceptron(x:np.ndarray,weights:np.ndarray):\n",
    "    if not isinstance(x,np.ndarray):\n",
    "        print(\"x should be an ndarray\")\n",
    "        return \n",
    "    assert(isinstance(x,np.ndarray))\n",
    "    return np.argmax(np.dot(x,weights),axis=1)\n",
    "x.shape,w.shape,train_out.shape,perceptron(x,w).shape,\"shapes look good!\""
   ]
  },
  {
   "cell_type": "code",
   "execution_count": 19,
   "metadata": {},
   "outputs": [
    {
     "data": {
      "text/plain": [
       "28867"
      ]
     },
     "execution_count": 19,
     "metadata": {},
     "output_type": "execute_result"
    }
   ],
   "source": [
    "# ERROR FUNCTION\n",
    "y = perceptron(x,w)\n",
    "\n",
    "def loss(y_pred,y_real):\n",
    "    return np.sum((y_real-y_pred)**2)\n",
    "\n",
    "loss(y,y_real)\n"
   ]
  },
  {
   "cell_type": "code",
   "execution_count": 20,
   "metadata": {},
   "outputs": [],
   "source": [
    "#GRADIENTS & UPDATE RULE\n",
    "def gradients(x,w,y):\n",
    "    # for one input x we have  L(x)= Σ(i)(y- w(i)*x(i))^2 ->\n",
    "    # for each wi we get gradiend(L) with regard to wi = -2*xi\n",
    "    # which means the total gradient = -2*x(y-wixi)\n",
    "    # so an average gradient for all the dataset would be -2*avg(x)\n",
    "    # so sum over 1700 x's and divide with x.shape[1] (257) so also bias wieght\n",
    "    targets = np.zeros((x.shape[0],w.shape[1]))\n",
    "    trues = targets.copy()\n",
    "\n",
    "    preds = perceptron(x,w)                     # format: 6\n",
    "\n",
    "    targets[np.arange(preds.size),preds]=1\n",
    "    trues[np.arange(y.size),y]=1                # format: [0,0,0,0,0,0,1,0,0,0]\n",
    "\n",
    "    diff = trues - targets\n",
    "    x_diff =  x.T @ diff\n",
    "    avg = x_diff/x.shape[1]\n",
    "    return -2*avg\n",
    "\n",
    "def grad_generator(x,y_real):\n",
    "    def func(w):\n",
    "        return gradients(x,w,y_real)\n",
    "    return func\n",
    "grad = grad_generator(x,y_real)\n",
    "\n",
    "def weight_update(w,lr=0.1):\n",
    "    g = grad(w)\n",
    "    update = -lr*g\n",
    "    return w + update"
   ]
  },
  {
   "cell_type": "code",
   "execution_count": 21,
   "metadata": {},
   "outputs": [
    {
     "data": {
      "application/vnd.jupyter.widget-view+json": {
       "model_id": "242504d4e86846ce985f17a3f5d3e563",
       "version_major": 2,
       "version_minor": 0
      },
      "text/plain": [
       "  0%|          | 0/1000 [00:00<?, ?it/s]"
      ]
     },
     "metadata": {},
     "output_type": "display_data"
    },
    {
     "name": "stdout",
     "output_type": "stream",
     "text": [
      "Achieved loss 0 in 321 epochs with lr=0.6\n"
     ]
    }
   ],
   "source": [
    "#TRAINING\n",
    "lr = 0.6\n",
    "def train(w):\n",
    "    error_hist = []\n",
    "    y_pred = perceptron(x,w)\n",
    "    l = loss(y_pred,y_real)\n",
    "    limit = 1000\n",
    "    loss_goal = 0\n",
    "    for _ in tqdm(range(limit)):\n",
    "        w = weight_update(w,lr)\n",
    "        y_pred = perceptron(x,w)\n",
    "        l = loss(y_pred,y_real)\n",
    "        y_test_pred = perceptron(x_test,w)\n",
    "        l_test = loss(y_test_pred,y_test_real)\n",
    "        error_hist.append((l,l_test))\n",
    "        if l<=loss_goal:\n",
    "            break\n",
    "    l = error_hist[-1]\n",
    "    print(f\"Achieved loss {l[0]} in {len(error_hist)} epochs with lr={lr}\")\n",
    "    return w,error_hist\n",
    "w_trained, error_hist = train(w.copy())"
   ]
  },
  {
   "cell_type": "code",
   "execution_count": 22,
   "metadata": {},
   "outputs": [
    {
     "data": {
      "text/plain": [
       "<matplotlib.legend.Legend at 0x7b019deb8160>"
      ]
     },
     "execution_count": 22,
     "metadata": {},
     "output_type": "execute_result"
    },
    {
     "data": {
      "image/png": "[encoded data removed]",
      "text/plain": [
       "<Figure size 640x480 with 1 Axes>"
      ]
     },
     "metadata": {},
     "output_type": "display_data"
    }
   ],
   "source": [
    "plt.plot(error_hist)\n",
    "# plt.yscale('log')\n",
    "plt.legend([\"train loss\",\"test loss\"])"
   ]
  },
  {
   "cell_type": "code",
   "execution_count": 13,
   "metadata": {},
   "outputs": [],
   "source": []
  }
 ],
 "metadata": {
  "kernelspec": {
   "display_name": "IDL",
   "language": "python",
   "name": "python3"
  },
  "language_info": {
   "codemirror_mode": {
    "name": "ipython",
    "version": 3
   },
   "file_extension": ".py",
   "mimetype": "text/x-python",
   "name": "python",
   "nbconvert_exporter": "python",
   "pygments_lexer": "ipython3",
   "version": "3.9.19"
  }
 },
 "nbformat": 4,
 "nbformat_minor": 2
}
