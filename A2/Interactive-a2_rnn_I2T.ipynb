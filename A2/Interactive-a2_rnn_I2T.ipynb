{
 "cells": [
  {
   "cell_type": "markdown",
   "metadata": {},
   "source": [
    "Restarted .venv (Python 3.10.7)"
   ]
  },
  {
   "cell_type": "markdown",
   "id": "9669f505-9f6b-4208-95e5-5029f52bc747",
   "metadata": {},
   "source": [
    " <div style=\"text-align: right\">   </div>\n",
    " Introduction to Deep Learning (2024)\n",
    "\n",
    " **Assignment 2 - Sequence processing using RNNs**\n",
    " <img src=\"https://upload.wikimedia.org/wikipedia/commons/thumb/b/b0/UniversiteitLeidenLogo.svg/1280px-UniversiteitLeidenLogo.svg.png\" width=\"300\">\n",
    "\n",
    " # Introduction\n",
    "\n",
    " The goal of this assignment is to learn how to use encoder-decoder recurrent neural networks (RNNs).\n",
    " Specifically we will be dealing with a sequence to sequence problem and try to build recurrent models that can learn the principles behind simple arithmetic operations (**integer addition, subtraction and multiplication.**).\n",
    "\n",
    " <img src=\"https://i.ibb.co/5Ky5pbk/Screenshot-2023-11-10-at-07-51-21.png\" alt=\"Screenshot-2023-11-10-at-07-51-21\" border=\"0\" width=\"500\"></a>\n",
    "\n",
    " In this assignment you will be working with three different kinds of models, based on input/output data modalities:\n",
    "\n",
    " 1. **Text-to-text**: given a text query containing two integers and an operand between them (+ or -) the model's output should be a sequence of integers that match the actual arithmetic result of this operation\n",
    "\n",
    " 2. **Image-to-text**: same as above, except the query is specified as a sequence of images containing individual digits and an operand.\n",
    "\n",
    " 3. **Text-to-image**: the query is specified in text format as in the text-to-text model, however the model's output should be a sequence of images corresponding to the correct result.\n",
    "\n",
    " ### Description\n",
    "\n",
    " Let us suppose that we want to develop a neural network that learns how to add or subtract\n",
    "\n",
    " two integers that are at most two digits long. For example, given input strings of 5 characters: ‘81+24’ or\n",
    "\n",
    " ’41-89’ that consist of 2 two-digit long integers and an operand between them, the network should return a\n",
    "\n",
    " sequence of 3 characters: ‘105 ’ or ’-48 ’ that represent the result of their respective queries. Additionally,\n",
    "\n",
    " we want to build a model that generalizes well - if the network can extract the underlying principles behind\n",
    "\n",
    " the ’+’ and ’-’ operands and associated operations, it should not need too many training examples to generate\n",
    "\n",
    " valid answers to unseen queries. To represent such queries we need 13 unique characters: 10 for digits (0-9),\n",
    "\n",
    " 2 for the ’+’ and ’-’ operands and one for whitespaces ’ ’ used as padding.\n",
    "\n",
    " The example above describes a text-to-text sequence mapping scenario. However, we can also use different\n",
    "\n",
    " modalities of data to represent our queries or answers. For that purpose, the MNIST handwritten digit\n",
    "\n",
    " dataset is going to be used again, however in a slightly different format. The functions below will be used to create our datasets.\n",
    "\n",
    " *To work on this notebook you should create a copy of it.*\n"
   ]
  },
  {
   "cell_type": "markdown",
   "id": "13765ead-2215-4ccb-94c6-7e63ed763e41",
   "metadata": {},
   "source": [
    " # Function definitions for creating the datasets\n",
    "\n",
    " First we need to create our datasets that are going to be used for training our models.\n",
    "\n",
    " In order to create image queries of simple arithmetic operations such as '15+13' or '42-10' we need to create images of '+' and '-' signs using ***open-cv*** library.\n",
    " We will use these operand signs together with the MNIST dataset to represent the digits."
   ]
  },
  {
   "cell_type": "code",
   "execution_count": null,
   "id": "81595ce9-319c-4902-8490-192e6ce901b1",
   "metadata": {},
   "outputs": [
    {
     "name": "stderr",
     "output_type": "stream",
     "text": [
      "2024-12-12 23:42:21.584182: I tensorflow/core/util/port.cc:113] oneDNN custom operations are on. You may see slightly different numerical results due to floating-point round-off errors from different computation orders. To turn them off, set the environment variable `TF_ENABLE_ONEDNN_OPTS=0`.\n",
      "2024-12-12 23:42:21.607777: E external/local_xla/xla/stream_executor/cuda/cuda_dnn.cc:9261] Unable to register cuDNN factory: Attempting to register factory for plugin cuDNN when one has already been registered\n",
      "2024-12-12 23:42:21.607794: E external/local_xla/xla/stream_executor/cuda/cuda_fft.cc:607] Unable to register cuFFT factory: Attempting to register factory for plugin cuFFT when one has already been registered\n",
      "2024-12-12 23:42:21.608590: E external/local_xla/xla/stream_executor/cuda/cuda_blas.cc:1515] Unable to register cuBLAS factory: Attempting to register factory for plugin cuBLAS when one has already been registered\n",
      "2024-12-12 23:42:21.612547: I tensorflow/core/platform/cpu_feature_guard.cc:182] This TensorFlow binary is optimized to use available CPU instructions in performance-critical operations.\n",
      "To enable the following instructions: AVX2 AVX_VNNI FMA, in other operations, rebuild TensorFlow with the appropriate compiler flags.\n",
      "2024-12-12 23:42:24.238559: W tensorflow/compiler/tf2tensorrt/utils/py_utils.cc:38] TF-TRT Warning: Could not find TensorRT\n"
     ]
    }
   ],
   "source": [
    "import matplotlib.pyplot as plt\n",
    "import cv2\n",
    "import numpy as np\n",
    "\n",
    "from sklearn.model_selection import train_test_split\n",
    "\n",
    "import tensorflow.keras as keras\n",
    "from tensorflow.keras.layers import Dense, LSTM, Flatten, TimeDistributed # type: ignore\n",
    "from tensorflow.keras.layers import RepeatVector, Conv2D, ConvLSTM2D # type: ignore"
   ]
  },
  {
   "cell_type": "code",
   "execution_count": null,
   "id": "23853a76-6f3f-431c-9f73-beb03b914bbc",
   "metadata": {},
   "outputs": [
    {
     "data": {
      "image/png": "[encoded data removed]",
      "text/plain": [
       "<Figure size 200x200 with 25 Axes>"
      ]
     },
     "metadata": {},
     "output_type": "display_data"
    }
   ],
   "source": [
    "from scipy.ndimage import rotate\n",
    "\n",
    "\n",
    "# Create plus/minus operand signs\n",
    "def generate_images(number_of_images=50, sign='-'):\n",
    "    blank_images = np.zeros([number_of_images, 28, 28])  # Dimensionality matches the size of MNIST images (28x28)\n",
    "    x = np.random.randint(12, 16, (number_of_images, 2)) # Randomized x coordinates\n",
    "    y1 = np.random.randint(6, 10, number_of_images)       # Randomized y coordinates\n",
    "    y2 = np.random.randint(18, 22, number_of_images)     # -||-\n",
    "\n",
    "    for i in range(number_of_images): # Generate n different images\n",
    "        cv2.line(blank_images[i], (y1[i], x[i,0]), (y2[i], x[i, 1]), (255,0,0), 2, cv2.LINE_AA)     # Draw lines with randomized coordinates\n",
    "        if sign == '+':\n",
    "            cv2.line(blank_images[i], (x[i,0], y1[i]), (x[i, 1], y2[i]), (255,0,0), 2, cv2.LINE_AA) # Draw lines with randomized coordinates\n",
    "        if sign == '*':\n",
    "            cv2.line(blank_images[i], (x[i,0], y1[i]), (x[i, 1], y2[i]), (255,0,0), 2, cv2.LINE_AA)\n",
    "            \n",
    "            # Rotate 45 degrees\n",
    "            blank_images[i] = rotate(blank_images[i], -50, reshape=False)\n",
    "            cv2.line(blank_images[i], (x[i,0], y1[i]), (x[i, 1], y2[i]), (255,0,0), 2, cv2.LINE_AA)\n",
    "\n",
    "            blank_images[i] = rotate(blank_images[i], -50, reshape=False)\n",
    "            cv2.line(blank_images[i], (x[i,0], y1[i]), (x[i, 1], y2[i]), (255,0,0), 2, cv2.LINE_AA)\n",
    "\n",
    "    return blank_images\n",
    "\n",
    "\n",
    "def show_generated(images, n=5):\n",
    "    plt.figure(figsize=(2, 2))\n",
    "    for i in range(n**2):\n",
    "        plt.subplot(n, n, i+1)\n",
    "        plt.axis('off')\n",
    "        plt.imshow(images[i])\n",
    "    plt.show()\n",
    "\n",
    "show_generated(generate_images())"
   ]
  },
  {
   "cell_type": "code",
   "execution_count": null,
   "id": "4d71fbcb-5de5-46ad-a649-1e11bec8acb0",
   "metadata": {},
   "outputs": [],
   "source": [
    "def create_data(highest_integer, num_addends=2, operands=['+', '-']):\n",
    "    \"\"\"\n",
    "    Creates the following data for all pairs of integers up to [1:highest integer][+/-][1:highest_integer]:\n",
    "    \n",
    "    @return:\n",
    "    X_text: '51+21' -> text query of an arithmetic operation (5)\n",
    "    X_img : Stack of MNIST images corresponding to the query (5 x 28 x 28) -> sequence of 5 images of size 28x28\n",
    "    y_text: '72' -> answer of the arithmetic text query\n",
    "    y_img :  Stack of MNIST images corresponding to the answer (3 x 28 x 28)\n",
    "\n",
    "    Images for digits are picked randomly from the whole MNIST dataset.\n",
    "    \"\"\"\n",
    "\n",
    "    num_indices = [np.where(MNIST_labels==x) for x in range(10)]\n",
    "    num_data = [MNIST_data[inds] for inds in num_indices]\n",
    "    image_mapping = dict(zip(unique_characters[:10], num_data))\n",
    "    image_mapping['-'] = generate_images()\n",
    "    image_mapping['+'] = generate_images(sign='+')\n",
    "    image_mapping['*'] = generate_images(sign='*')\n",
    "    image_mapping[' '] = np.zeros([1, 28, 28])\n",
    "\n",
    "    X_text, X_img, y_text, y_img = [], [], [], []\n",
    "\n",
    "    for i in range(highest_integer + 1):      # First addend\n",
    "        for j in range(highest_integer + 1):  # Second addend\n",
    "            for sign in operands: # Create all possible combinations of operands\n",
    "                query_string = to_padded_chars(str(i) + sign + str(j), max_len=max_query_length, pad_right=False)\n",
    "                query_image = []\n",
    "\n",
    "                for n, char in enumerate(query_string):\n",
    "                    image_set = image_mapping[char]\n",
    "                    index = np.random.randint(0, len(image_set), 1)\n",
    "                    query_image.append(image_set[index].squeeze())\n",
    "\n",
    "                result = eval(query_string)\n",
    "                result_string = to_padded_chars(result, max_len=max_answer_length, pad_right=False)\n",
    "                result_image = []\n",
    "                \n",
    "                for n, char in enumerate(result_string):\n",
    "                    image_set = image_mapping[char]\n",
    "                    index = np.random.randint(0, len(image_set), 1)\n",
    "                    result_image.append(image_set[index].squeeze())\n",
    "                    \n",
    "                X_text.append(query_string)\n",
    "                X_img.append(np.stack(query_image))\n",
    "\n",
    "                y_text.append(result_string)\n",
    "                y_img.append(np.stack(result_image))\n",
    "\n",
    "    return np.stack(X_text), np.stack(X_img)/255., np.stack(y_text), np.stack(y_img)/255.\n",
    "\n",
    "def to_padded_chars(integer, max_len=3, pad_right=False):\n",
    "    \"\"\"\n",
    "    Returns a string of len()=max_len, containing the integer padded with ' ' on either right or left side\n",
    "    \"\"\"\n",
    "    length = len(str(integer))\n",
    "    padding = (max_len - length) * ' '\n",
    "\n",
    "    if pad_right:\n",
    "        return str(integer) + padding\n",
    "    else:\n",
    "        return padding + str(integer)"
   ]
  },
  {
   "cell_type": "markdown",
   "id": "1431eb84-d426-464e-a710-53ab30f8f350",
   "metadata": {},
   "source": [
    " # Creating our data\n",
    "\n",
    " The dataset consists of 20000 samples that (additions and subtractions between all 2-digit integers) and they have two kinds of inputs and label modalities:\n",
    "\n",
    "   **X_text**: strings containing queries of length 5: ['  1+1  ', '11-18', ...]\n",
    "   **X_image**: a stack of images representing a single query, dimensions: [5, 28, 28]\n",
    "\n",
    "   **y_text**: strings containing answers of length 3: ['  2', '156']\n",
    "   **y_image**: a stack of images that represents the answer to a query, dimensions: [3, 28, 28]"
   ]
  },
  {
   "cell_type": "code",
   "execution_count": null,
   "id": "2419caaf-e584-47aa-964c-b3a136dd51e5",
   "metadata": {},
   "outputs": [
    {
     "name": "stdout",
     "output_type": "stream",
     "text": [
      "(20000,) (20000, 5, 28, 28) (20000,) (20000, 3, 28, 28)\n",
      "================================================== \n",
      "Query #8224\n",
      "\n",
      "X_text: \"41+12\" = y_text: \" 53\"\n"
     ]
    },
    {
     "data": {
      "image/png": "[encoded data removed]",
      "text/plain": [
       "<Figure size 640x480 with 2 Axes>"
      ]
     },
     "metadata": {},
     "output_type": "display_data"
    },
    {
     "name": "stdout",
     "output_type": "stream",
     "text": [
      "================================================== \n",
      "Query #2557\n",
      "\n",
      "X_text: \"12-78\" = y_text: \"-66\"\n"
     ]
    },
    {
     "data": {
      "image/png": "[encoded data removed]",
      "text/plain": [
       "<Figure size 640x480 with 2 Axes>"
      ]
     },
     "metadata": {},
     "output_type": "display_data"
    }
   ],
   "source": [
    "# Illustrate the generated query/answer pairs\n",
    "\n",
    "unique_characters = '0123456789+- '       # All unique characters that are used in the queries (13 in total: digits 0-9, 2 operands [+, -], and a space character ' '.)\n",
    "highest_integer = 99                      # Highest value of integers contained in the queries\n",
    "\n",
    "max_int_length = len(str(highest_integer))# Maximum number of characters in an integer\n",
    "max_query_length = max_int_length * 2 + 1 # Maximum length of the query string (consists of two integers and an operand [e.g. '22+10'])\n",
    "max_answer_length = 3    # Maximum length of the answer string (the longest resulting query string is ' 1-99'='-98')\n",
    "\n",
    "# Create the data (might take around a minute)\n",
    "(MNIST_data, MNIST_labels), _ = keras.datasets.mnist.load_data()\n",
    "X_text, X_img, y_text, y_img = create_data(highest_integer)\n",
    "print(X_text.shape, X_img.shape, y_text.shape, y_img.shape)\n",
    "\n",
    "## Display the samples that were created\n",
    "def display_sample(n):\n",
    "    labels = ['X_img:', 'y_img:']\n",
    "    for i, data in enumerate([X_img, y_img]):\n",
    "        plt.subplot(1,2,i+1)\n",
    "        # plt.set_figheight(15)\n",
    "        plt.axis('off')\n",
    "        plt.title(labels[i])\n",
    "        plt.imshow(np.hstack(data[n]), cmap='gray')\n",
    "        \n",
    "    print('='*50, f'\\nQuery #{n}\\n\\nX_text: \"{X_text[n]}\" = y_text: \"{y_text[n]}\"')\n",
    "    plt.show()\n",
    "\n",
    "for _ in range(2):\n",
    "    display_sample(np.random.randint(0, 10000, 1)[0])"
   ]
  },
  {
   "cell_type": "markdown",
   "id": "191904a4-5bb7-4d1d-b0ba-eca7e0788a8e",
   "metadata": {},
   "source": [
    " ## Helper functions\n",
    "\n",
    "\n",
    "\n",
    " The functions below will help with input/output of the data."
   ]
  },
  {
   "cell_type": "code",
   "execution_count": null,
   "id": "9aee3ecf-df8b-4bd3-bd28-dd5fd0254af4",
   "metadata": {},
   "outputs": [
    {
     "name": "stdout",
     "output_type": "stream",
     "text": [
      "(20000, 5, 13) (20000, 3, 13)\n"
     ]
    }
   ],
   "source": [
    "# One-hot encoding/decoding the text queries/answers so that they can be processed using RNNs\n",
    "\n",
    "# You should use these functions to convert your strings and read out the output of your networks\n",
    "\n",
    "def encode_labels(labels, max_len=3):\n",
    "    n = len(labels)\n",
    "    length = len(labels[0])\n",
    "    char_map = dict(zip(unique_characters, range(len(unique_characters))))\n",
    "    one_hot = np.zeros([n, length, len(unique_characters)])\n",
    "    \n",
    "    for i, label in enumerate(labels):\n",
    "        m = np.zeros([length, len(unique_characters)])\n",
    "        for j, char in enumerate(label):\n",
    "            m[j, char_map[char]] = 1\n",
    "        one_hot[i] = m\n",
    "\n",
    "    return one_hot\n",
    "\n",
    "def decode_labels(labels):\n",
    "    pred = np.argmax(labels, axis=1)\n",
    "    predicted = ''.join([unique_characters[i] for i in pred])\n",
    "    \n",
    "    return predicted\n",
    "\n",
    "X_text_onehot = encode_labels(X_text)\n",
    "y_text_onehot = encode_labels(y_text)\n",
    "\n",
    "print(X_text_onehot.shape, y_text_onehot.shape)"
   ]
  },
  {
   "cell_type": "markdown",
   "id": "65889a77-25cc-4532-8738-912da1f12c7e",
   "metadata": {},
   "source": [
    "\n",
    " ## II. Image to text RNN Model\n",
    "\n",
    " Hint: There are two ways of building the encoder for such a model - again by using the regular LSTM cells (with flattened images as input vectors) or\n",
    " recurrect convolutional layers [ConvLSTM2D](https://keras.io/api/layers/recurrent_layers/conv_lstm2d/).\n",
    "\n",
    " The goal here is to use **X_img** as inputs and **y_text** as outputs."
   ]
  },
  {
   "cell_type": "code",
   "execution_count": null,
   "id": "34075cf2-98ef-42a1-b993-1758284c6a8c",
   "metadata": {},
   "outputs": [],
   "source": [
    "from sklearn.model_selection import train_test_split\n",
    "\n",
    "X_train, X_test, y_train, y_test = train_test_split(X_img, y_text_onehot, test_size=0.20, random_state=42) \n",
    "X_test, X_valid, y_test, y_valid = train_test_split(X_test, y_test, test_size=0.5, random_state=42) "
   ]
  },
  {
   "cell_type": "code",
   "execution_count": null,
   "id": "308af0e4-9bcd-4c80-9ab4-c8c8e9d0db38",
   "metadata": {},
   "outputs": [
    {
     "name": "stdout",
     "output_type": "stream",
     "text": [
      "-70\n"
     ]
    },
    {
     "data": {
      "image/png": "[encoded data removed]",
      "text/plain": [
       "<Figure size 640x480 with 1 Axes>"
      ]
     },
     "metadata": {},
     "output_type": "display_data"
    }
   ],
   "source": [
    "print(decode_labels(y_test[0]))\n",
    "\n",
    "plt.imshow(np.hstack(X_test[0]), cmap='gray')  # Display the frame in grayscale\n",
    "plt.title(f\"X\")\n",
    "plt.axis(\"off\")\n",
    "plt.show()"
   ]
  },
  {
   "cell_type": "code",
   "execution_count": null,
   "id": "cf8bc25a-f715-4f07-be3b-b0f31deb2e9d",
   "metadata": {},
   "outputs": [
    {
     "name": "stderr",
     "output_type": "stream",
     "text": [
      "2024-12-12 23:42:45.500017: I external/local_xla/xla/stream_executor/cuda/cuda_executor.cc:901] successful NUMA node read from SysFS had negative value (-1), but there must be at least one NUMA node, so returning NUMA node zero. See more at https://github.com/torvalds/linux/blob/v6.0/Documentation/ABI/testing/sysfs-bus-pci#L344-L355\n",
      "2024-12-12 23:42:45.527539: I external/local_xla/xla/stream_executor/cuda/cuda_executor.cc:901] successful NUMA node read from SysFS had negative value (-1), but there must be at least one NUMA node, so returning NUMA node zero. See more at https://github.com/torvalds/linux/blob/v6.0/Documentation/ABI/testing/sysfs-bus-pci#L344-L355\n",
      "2024-12-12 23:42:45.527647: I external/local_xla/xla/stream_executor/cuda/cuda_executor.cc:901] successful NUMA node read from SysFS had negative value (-1), but there must be at least one NUMA node, so returning NUMA node zero. See more at https://github.com/torvalds/linux/blob/v6.0/Documentation/ABI/testing/sysfs-bus-pci#L344-L355\n",
      "2024-12-12 23:42:45.528767: I external/local_xla/xla/stream_executor/cuda/cuda_executor.cc:901] successful NUMA node read from SysFS had negative value (-1), but there must be at least one NUMA node, so returning NUMA node zero. See more at https://github.com/torvalds/linux/blob/v6.0/Documentation/ABI/testing/sysfs-bus-pci#L344-L355\n",
      "2024-12-12 23:42:45.528853: I external/local_xla/xla/stream_executor/cuda/cuda_executor.cc:901] successful NUMA node read from SysFS had negative value (-1), but there must be at least one NUMA node, so returning NUMA node zero. See more at https://github.com/torvalds/linux/blob/v6.0/Documentation/ABI/testing/sysfs-bus-pci#L344-L355\n",
      "2024-12-12 23:42:45.528900: I external/local_xla/xla/stream_executor/cuda/cuda_executor.cc:901] successful NUMA node read from SysFS had negative value (-1), but there must be at least one NUMA node, so returning NUMA node zero. See more at https://github.com/torvalds/linux/blob/v6.0/Documentation/ABI/testing/sysfs-bus-pci#L344-L355\n",
      "2024-12-12 23:42:45.577693: I external/local_xla/xla/stream_executor/cuda/cuda_executor.cc:901] successful NUMA node read from SysFS had negative value (-1), but there must be at least one NUMA node, so returning NUMA node zero. See more at https://github.com/torvalds/linux/blob/v6.0/Documentation/ABI/testing/sysfs-bus-pci#L344-L355\n",
      "2024-12-12 23:42:45.577775: I external/local_xla/xla/stream_executor/cuda/cuda_executor.cc:901] successful NUMA node read from SysFS had negative value (-1), but there must be at least one NUMA node, so returning NUMA node zero. See more at https://github.com/torvalds/linux/blob/v6.0/Documentation/ABI/testing/sysfs-bus-pci#L344-L355\n",
      "2024-12-12 23:42:45.577829: I external/local_xla/xla/stream_executor/cuda/cuda_executor.cc:901] successful NUMA node read from SysFS had negative value (-1), but there must be at least one NUMA node, so returning NUMA node zero. See more at https://github.com/torvalds/linux/blob/v6.0/Documentation/ABI/testing/sysfs-bus-pci#L344-L355\n",
      "2024-12-12 23:42:45.577870: I tensorflow/core/common_runtime/gpu/gpu_device.cc:1929] Created device /job:localhost/replica:0/task:0/device:GPU:0 with 6230 MB memory:  -> device: 0, name: NVIDIA GeForce RTX 4060, pci bus id: 0000:01:00.0, compute capability: 8.9\n",
      "2024-12-12 23:42:45.718889: W external/local_xla/xla/stream_executor/gpu/asm_compiler.cc:225] Falling back to the CUDA driver for PTX compilation; ptxas does not support CC 8.9\n",
      "2024-12-12 23:42:45.718900: W external/local_xla/xla/stream_executor/gpu/asm_compiler.cc:228] Used ptxas at ptxas\n",
      "2024-12-12 23:42:45.718923: W tensorflow/compiler/mlir/tools/kernel_gen/transforms/gpu_kernel_to_blob_pass.cc:191] Failed to compile generated PTX with ptxas. Falling back to compilation by driver.\n"
     ]
    },
    {
     "name": "stdout",
     "output_type": "stream",
     "text": [
      "Model: \"sequential\"\n",
      "_________________________________________________________________\n",
      " Layer (type)                Output Shape              Param #   \n",
      "=================================================================\n",
      " time_distributed (TimeDist  (None, 5, 26, 26, 512)    5120      \n",
      " ributed)                                                        \n",
      "                                                                 \n",
      " time_distributed_1 (TimeDi  (None, 5, 13, 13, 512)    0         \n",
      " stributed)                                                      \n",
      "                                                                 \n",
      " time_distributed_2 (TimeDi  (None, 5, 13, 13, 512)    0         \n",
      " stributed)                                                      \n",
      "                                                                 \n",
      " time_distributed_3 (TimeDi  (None, 5, 86528)          0         \n",
      " stributed)                                                      \n",
      "                                                                 \n",
      " time_distributed_4 (TimeDi  (None, 5, 200)            17305800  \n",
      " stributed)                                                      \n",
      "                                                                 \n",
      " lstm (LSTM)                 (None, 5, 256)            467968    \n",
      "                                                                 \n",
      " lstm_1 (LSTM)               (None, 256)               525312    \n",
      "                                                                 \n",
      " repeat_vector (RepeatVecto  (None, 3, 256)            0         \n",
      " r)                                                              \n",
      "                                                                 \n",
      " lstm_2 (LSTM)               (None, 3, 256)            525312    \n",
      "                                                                 \n",
      " time_distributed_5 (TimeDi  (None, 3, 13)             3341      \n",
      " stributed)                                                      \n",
      "                                                                 \n",
      "=================================================================\n",
      "Total params: 18832853 (71.84 MB)\n",
      "Trainable params: 18832853 (71.84 MB)\n",
      "Non-trainable params: 0 (0.00 Byte)\n",
      "_________________________________________________________________\n"
     ]
    }
   ],
   "source": [
    "## Your code\n",
    "from tensorflow.keras.layers import GlobalAveragePooling2D, GlobalAveragePooling1D, ConvLSTM2D,MaxPooling2D, BatchNormalization, Dropout,LayerNormalization\n",
    "from tensorflow.keras.optimizers import Adam\n",
    "from tensorflow.keras.callbacks import ReduceLROnPlateau\n",
    "from tensorflow.keras.regularizers import l2\n",
    "\n",
    "\n",
    "def build_img2text_model():\n",
    "    # We start by initializing a sequential model\n",
    "    img2text = keras.Sequential()\n",
    "\n",
    "    # \"Encode\" the input sequence using an RNN, producing an output of size 256.\n",
    "    # In this case the size of our input vectors is [5, 13] as we have queries of length 5 and 13 unique characters. \n",
    "    # Each of these 5 elements in the query will be fed to the network one by one, as shown in the image above (except with 5 elements).\n",
    "\n",
    "    # Hint: In other applications, where your input sequences have a variable length (e.g. sentences), you would use input_shape=(None, unique_characters).\n",
    "\n",
    "    img2text.add(\n",
    "        ConvLSTM2D(filters=16,\n",
    "        kernel_size=(3, 3),\n",
    "        padding=\"same\",\n",
    "        return_sequences=True,\n",
    "        activation=\"relu\", \n",
    "        input_shape=(5, 28, 28, 1), \n",
    "        kernel_regularizer=l2(0.01))\n",
    "    )\n",
    "    img2text.add(BatchNormalization())\n",
    "    img2text.add(Dropout(0.2))\n",
    "    \n",
    "    img2text.add(\n",
    "        ConvLSTM2D(filters=32,\n",
    "        kernel_size=(3, 3),\n",
    "        padding=\"same\",\n",
    "        return_sequences=True,\n",
    "        activation=\"relu\", \n",
    "        kernel_regularizer=l2(0.01))\n",
    "    )\n",
    "    img2text.add(BatchNormalization())\n",
    "\n",
    "    #img2text.add(Flatten())\n",
    "    img2text.add(TimeDistributed(GlobalAveragePooling2D()))\n",
    "    img2text.add(Dense(256, activation='relu'))\n",
    "    img2text.add(Dropout(0.2))\n",
    "    \n",
    "    # As the decoder RNN's input, repeatedly provide with the last output of RNN for each time step. Repeat 3 times as that's the maximum length of the output (e.g. '  1-99' = '-98')\n",
    "    # when using 2-digit integers in queries. In other words, the RNN will always produce 3 characters as its output.\n",
    "    img2text.add(GlobalAveragePooling1D())\n",
    "    img2text.add(RepeatVector(max_answer_length))\n",
    "\n",
    "    # By setting return_sequences to True, return not only the last output but all the outputs so far in the form of (num_samples, timesteps, output_dim). \n",
    "    # This is necessary as TimeDistributed in the below expects the first dimension to be the timesteps.\n",
    "    img2text.add(LSTM(128, return_sequences=True))\n",
    "    img2text.add(LSTM(64, return_sequences=True))\n",
    "    img2text.add(LayerNormalization())\n",
    "\n",
    "    # Apply a dense layer to the every temporal slice of an input. For each of step of the output sequence, decide which character should be chosen.\n",
    "    img2text.add(TimeDistributed(Dense(len(unique_characters), activation='softmax',kernel_regularizer=l2(0.01))))\n",
    "\n",
    "    # Next we compile the model using categorical crossentropy as our loss function.\n",
    "    optimizer = Adam(learning_rate=0.001) \n",
    "    img2text.compile(loss='categorical_crossentropy', optimizer=optimizer, metrics=['accuracy'])\n",
    "    img2text.summary()\n",
    "\n",
    "    return img2text\n",
    "\n",
    "def build_img2text_model2():\n",
    "    img2text = keras.Sequential()\n",
    "    img2text.add(TimeDistributed(Conv2D(512, (3, 3), activation='relu'), input_shape=(5, 28, 28, 1)))\n",
    "    img2text.add(TimeDistributed(MaxPooling2D((2, 2))))\n",
    "    img2text.add(TimeDistributed(Dropout(0.2)))\n",
    "    img2text.add(TimeDistributed(Flatten()))\n",
    "    img2text.add(TimeDistributed(Dense(200, activation='relu')))\n",
    "    img2text.add(LSTM(256, return_sequences=True))\n",
    "    img2text.add(LSTM(256))\n",
    "    \n",
    "    img2text.add(RepeatVector(max_answer_length))\n",
    "    img2text.add(LSTM(256, return_sequences=True))\n",
    "    img2text.add(TimeDistributed(Dense(len(unique_characters), activation='softmax')))\n",
    "    img2text.compile(loss='categorical_crossentropy', optimizer='adam', metrics=['accuracy'])\n",
    "    img2text.summary()\n",
    "\n",
    "    return img2text\n",
    "\n",
    "model = build_img2text_model2()"
   ]
  },
  {
   "cell_type": "code",
   "execution_count": null,
   "id": "8ba1efb9-5d22-48c2-bbfd-fba03ee1ea5b",
   "metadata": {},
   "outputs": [],
   "source": [
    "import tensorflow.keras as keras\n",
    "# Fit the model\n",
    "\n",
    "checkpoint_cb = keras.callbacks.ModelCheckpoint(\n",
    "        f\"image_to_text_best.keras\", save_best_only=True\n",
    "    )\n",
    "early_stopping = keras.callbacks.EarlyStopping(\n",
    "    monitor='val_loss',  # metric to monitor\n",
    "    patience=8,          # number of epochs to wait for improvement\n",
    "    restore_best_weights=True  # restore the best weights after stopping\n",
    ")\n",
    "\n",
    "lr_scheduler = ReduceLROnPlateau(monitor=\"val_loss\", factor=0.5, patience=5, min_lr=1e-6, verbose=1)"
   ]
  },
  {
   "cell_type": "code",
   "execution_count": null,
   "id": "aa777a93-a2cc-45a4-a264-50e49522f109",
   "metadata": {},
   "outputs": [
    {
     "name": "stdout",
     "output_type": "stream",
     "text": [
      "Epoch 1/100\n"
     ]
    },
    {
     "name": "stderr",
     "output_type": "stream",
     "text": [
      "2024-12-12 23:42:51.980165: E tensorflow/core/grappler/optimizers/meta_optimizer.cc:961] layout failed: INVALID_ARGUMENT: Size of values 0 does not match size of permutation 4 @ fanin shape insequential/time_distributed_2/dropout/dropout/SelectV2-2-TransposeNHWCToNCHW-LayoutOptimizer\n",
      "2024-12-12 23:42:52.149398: I external/local_xla/xla/stream_executor/cuda/cuda_dnn.cc:454] Loaded cuDNN version 8904\n",
      "2024-12-12 23:42:52.205096: W external/local_xla/xla/stream_executor/gpu/redzone_allocator.cc:322] UNIMPLEMENTED: ptxas ptxas too old. Falling back to the driver to compile.\n",
      "Relying on driver to perform ptx compilation. \n",
      "Modify $PATH to customize ptxas location.\n",
      "This message will be only logged once.\n",
      "2024-12-12 23:42:52.424904: W tensorflow/compiler/mlir/tools/kernel_gen/transforms/gpu_kernel_to_blob_pass.cc:191] Failed to compile generated PTX with ptxas. Falling back to compilation by driver.\n",
      "2024-12-12 23:42:52.425153: W tensorflow/compiler/mlir/tools/kernel_gen/transforms/gpu_kernel_to_blob_pass.cc:191] Failed to compile generated PTX with ptxas. Falling back to compilation by driver.\n",
      "2024-12-12 23:42:52.425226: W tensorflow/compiler/mlir/tools/kernel_gen/transforms/gpu_kernel_to_blob_pass.cc:191] Failed to compile generated PTX with ptxas. Falling back to compilation by driver.\n",
      "2024-12-12 23:42:52.425350: W tensorflow/compiler/mlir/tools/kernel_gen/transforms/gpu_kernel_to_blob_pass.cc:191] Failed to compile generated PTX with ptxas. Falling back to compilation by driver.\n",
      "2024-12-12 23:42:52.425554: W tensorflow/compiler/mlir/tools/kernel_gen/transforms/gpu_kernel_to_blob_pass.cc:191] Failed to compile generated PTX with ptxas. Falling back to compilation by driver.\n",
      "2024-12-12 23:42:52.425561: W tensorflow/compiler/mlir/tools/kernel_gen/transforms/gpu_kernel_to_blob_pass.cc:191] Failed to compile generated PTX with ptxas. Falling back to compilation by driver.\n",
      "2024-12-12 23:42:52.425804: W tensorflow/compiler/mlir/tools/kernel_gen/transforms/gpu_kernel_to_blob_pass.cc:191] Failed to compile generated PTX with ptxas. Falling back to compilation by driver.\n",
      "2024-12-12 23:42:52.427462: W tensorflow/compiler/mlir/tools/kernel_gen/transforms/gpu_kernel_to_blob_pass.cc:191] Failed to compile generated PTX with ptxas. Falling back to compilation by driver.\n",
      "2024-12-12 23:42:52.428107: W tensorflow/compiler/mlir/tools/kernel_gen/transforms/gpu_kernel_to_blob_pass.cc:191] Failed to compile generated PTX with ptxas. Falling back to compilation by driver.\n",
      "2024-12-12 23:42:52.616845: W tensorflow/compiler/mlir/tools/kernel_gen/transforms/gpu_kernel_to_blob_pass.cc:191] Failed to compile generated PTX with ptxas. Falling back to compilation by driver.\n",
      "2024-12-12 23:42:52.704000: W tensorflow/compiler/mlir/tools/kernel_gen/transforms/gpu_kernel_to_blob_pass.cc:191] Failed to compile generated PTX with ptxas. Falling back to compilation by driver.\n",
      "2024-12-12 23:42:52.775495: W tensorflow/compiler/mlir/tools/kernel_gen/transforms/gpu_kernel_to_blob_pass.cc:191] Failed to compile generated PTX with ptxas. Falling back to compilation by driver.\n",
      "2024-12-12 23:42:52.775564: W tensorflow/compiler/mlir/tools/kernel_gen/transforms/gpu_kernel_to_blob_pass.cc:191] Failed to compile generated PTX with ptxas. Falling back to compilation by driver.\n",
      "2024-12-12 23:42:52.775577: W tensorflow/compiler/mlir/tools/kernel_gen/transforms/gpu_kernel_to_blob_pass.cc:191] Failed to compile generated PTX with ptxas. Falling back to compilation by driver.\n",
      "2024-12-12 23:42:52.775840: W tensorflow/compiler/mlir/tools/kernel_gen/transforms/gpu_kernel_to_blob_pass.cc:191] Failed to compile generated PTX with ptxas. Falling back to compilation by driver.\n",
      "2024-12-12 23:42:52.776007: W tensorflow/compiler/mlir/tools/kernel_gen/transforms/gpu_kernel_to_blob_pass.cc:191] Failed to compile generated PTX with ptxas. Falling back to compilation by driver.\n",
      "2024-12-12 23:42:52.777165: W tensorflow/compiler/mlir/tools/kernel_gen/transforms/gpu_kernel_to_blob_pass.cc:191] Failed to compile generated PTX with ptxas. Falling back to compilation by driver.\n",
      "2024-12-12 23:42:52.777173: W tensorflow/compiler/mlir/tools/kernel_gen/transforms/gpu_kernel_to_blob_pass.cc:191] Failed to compile generated PTX with ptxas. Falling back to compilation by driver.\n",
      "2024-12-12 23:42:52.777180: W tensorflow/compiler/mlir/tools/kernel_gen/transforms/gpu_kernel_to_blob_pass.cc:191] Failed to compile generated PTX with ptxas. Falling back to compilation by driver.\n",
      "2024-12-12 23:42:52.896246: W tensorflow/compiler/mlir/tools/kernel_gen/transforms/gpu_kernel_to_blob_pass.cc:191] Failed to compile generated PTX with ptxas. Falling back to compilation by driver.\n",
      "2024-12-12 23:42:52.896396: W tensorflow/compiler/mlir/tools/kernel_gen/transforms/gpu_kernel_to_blob_pass.cc:191] Failed to compile generated PTX with ptxas. Falling back to compilation by driver.\n",
      "2024-12-12 23:42:52.896462: W tensorflow/compiler/mlir/tools/kernel_gen/transforms/gpu_kernel_to_blob_pass.cc:191] Failed to compile generated PTX with ptxas. Falling back to compilation by driver.\n",
      "2024-12-12 23:42:52.896601: W tensorflow/compiler/mlir/tools/kernel_gen/transforms/gpu_kernel_to_blob_pass.cc:191] Failed to compile generated PTX with ptxas. Falling back to compilation by driver.\n",
      "2024-12-12 23:42:52.896838: W tensorflow/compiler/mlir/tools/kernel_gen/transforms/gpu_kernel_to_blob_pass.cc:191] Failed to compile generated PTX with ptxas. Falling back to compilation by driver.\n",
      "2024-12-12 23:42:52.898070: W tensorflow/compiler/mlir/tools/kernel_gen/transforms/gpu_kernel_to_blob_pass.cc:191] Failed to compile generated PTX with ptxas. Falling back to compilation by driver.\n",
      "2024-12-12 23:42:52.898085: W tensorflow/compiler/mlir/tools/kernel_gen/transforms/gpu_kernel_to_blob_pass.cc:191] Failed to compile generated PTX with ptxas. Falling back to compilation by driver.\n",
      "2024-12-12 23:42:52.898123: W tensorflow/compiler/mlir/tools/kernel_gen/transforms/gpu_kernel_to_blob_pass.cc:191] Failed to compile generated PTX with ptxas. Falling back to compilation by driver.\n",
      "2024-12-12 23:42:52.990876: W tensorflow/compiler/mlir/tools/kernel_gen/transforms/gpu_kernel_to_blob_pass.cc:191] Failed to compile generated PTX with ptxas. Falling back to compilation by driver.\n",
      "2024-12-12 23:42:53.017375: W tensorflow/compiler/mlir/tools/kernel_gen/transforms/gpu_kernel_to_blob_pass.cc:191] Failed to compile generated PTX with ptxas. Falling back to compilation by driver.\n",
      "2024-12-12 23:42:53.139224: I external/local_xla/xla/service/service.cc:168] XLA service 0x7f9d68400a30 initialized for platform CUDA (this does not guarantee that XLA will be used). Devices:\n",
      "2024-12-12 23:42:53.139284: I external/local_xla/xla/service/service.cc:176]   StreamExecutor device (0): NVIDIA GeForce RTX 4060, Compute Capability 8.9\n",
      "2024-12-12 23:42:53.149215: I tensorflow/compiler/mlir/tensorflow/utils/dump_mlir_util.cc:269] disabling MLIR crash reproducer, set env var `MLIR_CRASH_REPRODUCER_DIRECTORY` to enable.\n",
      "WARNING: All log messages before absl::InitializeLog() is called are written to STDERR\n",
      "I0000 00:00:1734043373.183431 1938177 device_compiler.h:186] Compiled cluster using XLA!  This line is logged at most once for the lifetime of the process.\n"
     ]
    },
    {
     "name": "stdout",
     "output_type": "stream",
     "text": [
      "500/500 [==============================] - 17s 29ms/step - loss: 1.8444 - accuracy: 0.2729 - val_loss: 1.7424 - val_accuracy: 0.3048 - lr: 0.0010\n",
      "Epoch 2/100\n",
      "500/500 [==============================] - 14s 28ms/step - loss: 1.6635 - accuracy: 0.3378 - val_loss: 1.5390 - val_accuracy: 0.4092 - lr: 0.0010\n",
      "Epoch 3/100\n",
      "500/500 [==============================] - 14s 28ms/step - loss: 1.4020 - accuracy: 0.4515 - val_loss: 1.2757 - val_accuracy: 0.4920 - lr: 0.0010\n",
      "Epoch 4/100\n",
      "500/500 [==============================] - 14s 28ms/step - loss: 1.1995 - accuracy: 0.5399 - val_loss: 1.2013 - val_accuracy: 0.5447 - lr: 0.0010\n",
      "Epoch 5/100\n",
      "500/500 [==============================] - 14s 28ms/step - loss: 1.0833 - accuracy: 0.5930 - val_loss: 1.0531 - val_accuracy: 0.6143 - lr: 0.0010\n",
      "Epoch 6/100\n",
      "500/500 [==============================] - 14s 28ms/step - loss: 0.9166 - accuracy: 0.6668 - val_loss: 0.8623 - val_accuracy: 0.7023 - lr: 0.0010\n",
      "Epoch 7/100\n",
      "500/500 [==============================] - 14s 28ms/step - loss: 0.7033 - accuracy: 0.7540 - val_loss: 0.6446 - val_accuracy: 0.7925 - lr: 0.0010\n",
      "Epoch 8/100\n",
      "500/500 [==============================] - 14s 28ms/step - loss: 0.4885 - accuracy: 0.8441 - val_loss: 0.4824 - val_accuracy: 0.8650 - lr: 0.0010\n",
      "Epoch 9/100\n",
      "500/500 [==============================] - 14s 28ms/step - loss: 0.3571 - accuracy: 0.8972 - val_loss: 0.3740 - val_accuracy: 0.9093 - lr: 0.0010\n",
      "Epoch 10/100\n",
      "500/500 [==============================] - 14s 28ms/step - loss: 0.2629 - accuracy: 0.9331 - val_loss: 0.3736 - val_accuracy: 0.9005 - lr: 0.0010\n",
      "Epoch 11/100\n",
      "500/500 [==============================] - 14s 28ms/step - loss: 0.2082 - accuracy: 0.9488 - val_loss: 0.3496 - val_accuracy: 0.9097 - lr: 0.0010\n",
      "Epoch 12/100\n",
      "500/500 [==============================] - 14s 28ms/step - loss: 0.1925 - accuracy: 0.9531 - val_loss: 0.2643 - val_accuracy: 0.9412 - lr: 0.0010\n",
      "Epoch 13/100\n",
      "500/500 [==============================] - 12s 23ms/step - loss: 0.1535 - accuracy: 0.9642 - val_loss: 0.2654 - val_accuracy: 0.9403 - lr: 0.0010\n",
      "Epoch 14/100\n",
      "500/500 [==============================] - 14s 28ms/step - loss: 0.1524 - accuracy: 0.9630 - val_loss: 0.2318 - val_accuracy: 0.9503 - lr: 0.0010\n",
      "Epoch 15/100\n",
      "500/500 [==============================] - 11s 23ms/step - loss: 0.1242 - accuracy: 0.9709 - val_loss: 0.2324 - val_accuracy: 0.9517 - lr: 0.0010\n",
      "Epoch 16/100\n",
      "500/500 [==============================] - 14s 28ms/step - loss: 0.1332 - accuracy: 0.9698 - val_loss: 0.2316 - val_accuracy: 0.9525 - lr: 0.0010\n",
      "Epoch 17/100\n",
      "500/500 [==============================] - 12s 23ms/step - loss: 0.1077 - accuracy: 0.9737 - val_loss: 0.2326 - val_accuracy: 0.9472 - lr: 0.0010\n",
      "Epoch 18/100\n",
      "500/500 [==============================] - 14s 28ms/step - loss: 0.1023 - accuracy: 0.9761 - val_loss: 0.1875 - val_accuracy: 0.9655 - lr: 0.0010\n",
      "Epoch 19/100\n",
      "500/500 [==============================] - 11s 23ms/step - loss: 0.0917 - accuracy: 0.9787 - val_loss: 0.2024 - val_accuracy: 0.9602 - lr: 0.0010\n",
      "Epoch 20/100\n",
      "500/500 [==============================] - 11s 23ms/step - loss: 0.0869 - accuracy: 0.9798 - val_loss: 0.2186 - val_accuracy: 0.9560 - lr: 0.0010\n",
      "Epoch 21/100\n",
      "500/500 [==============================] - 12s 23ms/step - loss: 0.0765 - accuracy: 0.9821 - val_loss: 0.2267 - val_accuracy: 0.9555 - lr: 0.0010\n",
      "Epoch 22/100\n",
      "500/500 [==============================] - 12s 23ms/step - loss: 0.0989 - accuracy: 0.9762 - val_loss: 0.2824 - val_accuracy: 0.9430 - lr: 0.0010\n",
      "Epoch 23/100\n",
      "499/500 [============================>.] - ETA: 0s - loss: 0.0935 - accuracy: 0.9790\n",
      "Epoch 23: ReduceLROnPlateau reducing learning rate to 0.0005000000237487257.\n",
      "500/500 [==============================] - 12s 23ms/step - loss: 0.0934 - accuracy: 0.9790 - val_loss: 0.1922 - val_accuracy: 0.9637 - lr: 0.0010\n",
      "Epoch 24/100\n",
      "500/500 [==============================] - 14s 28ms/step - loss: 0.0463 - accuracy: 0.9913 - val_loss: 0.1761 - val_accuracy: 0.9695 - lr: 5.0000e-04\n",
      "Epoch 25/100\n",
      "500/500 [==============================] - 14s 28ms/step - loss: 0.0414 - accuracy: 0.9921 - val_loss: 0.1665 - val_accuracy: 0.9727 - lr: 5.0000e-04\n",
      "Epoch 26/100\n",
      "500/500 [==============================] - 14s 28ms/step - loss: 0.0347 - accuracy: 0.9933 - val_loss: 0.1622 - val_accuracy: 0.9730 - lr: 5.0000e-04\n",
      "Epoch 27/100\n",
      "500/500 [==============================] - 11s 23ms/step - loss: 0.0313 - accuracy: 0.9936 - val_loss: 0.1657 - val_accuracy: 0.9725 - lr: 5.0000e-04\n",
      "Epoch 28/100\n",
      "500/500 [==============================] - 11s 23ms/step - loss: 0.0283 - accuracy: 0.9941 - val_loss: 0.1781 - val_accuracy: 0.9720 - lr: 5.0000e-04\n",
      "Epoch 29/100\n",
      "500/500 [==============================] - 11s 23ms/step - loss: 0.0346 - accuracy: 0.9919 - val_loss: 0.1912 - val_accuracy: 0.9682 - lr: 5.0000e-04\n",
      "Epoch 30/100\n",
      "500/500 [==============================] - 12s 23ms/step - loss: 0.0383 - accuracy: 0.9909 - val_loss: 0.1779 - val_accuracy: 0.9713 - lr: 5.0000e-04\n",
      "Epoch 31/100\n",
      "499/500 [============================>.] - ETA: 0s - loss: 0.0321 - accuracy: 0.9921\n",
      "Epoch 31: ReduceLROnPlateau reducing learning rate to 0.0002500000118743628.\n",
      "500/500 [==============================] - 12s 23ms/step - loss: 0.0320 - accuracy: 0.9921 - val_loss: 0.1925 - val_accuracy: 0.9675 - lr: 5.0000e-04\n",
      "Epoch 32/100\n",
      "500/500 [==============================] - 12s 23ms/step - loss: 0.0222 - accuracy: 0.9950 - val_loss: 0.1630 - val_accuracy: 0.9763 - lr: 2.5000e-04\n",
      "Epoch 33/100\n",
      "500/500 [==============================] - 11s 23ms/step - loss: 0.0191 - accuracy: 0.9956 - val_loss: 0.1709 - val_accuracy: 0.9758 - lr: 2.5000e-04\n",
      "Epoch 34/100\n",
      "500/500 [==============================] - 12s 23ms/step - loss: 0.0173 - accuracy: 0.9958 - val_loss: 0.1637 - val_accuracy: 0.9758 - lr: 2.5000e-04\n"
     ]
    }
   ],
   "source": [
    "history = model.fit(\n",
    "    X_train,\n",
    "    y_train,\n",
    "    validation_data=(X_valid, y_valid),\n",
    "    batch_size=32,\n",
    "    epochs=100,\n",
    "    callbacks = [checkpoint_cb, early_stopping, lr_scheduler]\n",
    ")"
   ]
  },
  {
   "cell_type": "code",
   "execution_count": null,
   "id": "b14bce19-cbdc-4594-be3c-6e7da0422e10",
   "metadata": {},
   "outputs": [],
   "source": [
    "model.save(f'submission1_image_to_text.keras')"
   ]
  },
  {
   "cell_type": "code",
   "execution_count": null,
   "id": "215e5c0a-bc39-4f9b-abe3-54f89bda1c4f",
   "metadata": {},
   "outputs": [
    {
     "data": {
      "image/png": "[encoded data removed]",
      "text/plain": [
       "<Figure size 640x480 with 1 Axes>"
      ]
     },
     "metadata": {},
     "output_type": "display_data"
    },
    {
     "name": "stdout",
     "output_type": "stream",
     "text": [
      "500/500 [==============================] - 4s 8ms/step - loss: 0.0287 - accuracy: 0.9942\n",
      "Train Accuracy for text to text model: [0.028725819662213326, 0.9942499995231628]\n",
      "63/63 [==============================] - 0s 8ms/step - loss: 0.1622 - accuracy: 0.9713\n",
      "Test Accuracy for text to text model: [0.1621769666671753, 0.9713333249092102]\n"
     ]
    }
   ],
   "source": [
    "import pandas as pd\n",
    "data_history = pd.DataFrame(history.history)\n",
    "data_history.to_csv('image_to_text_history.csv')\n",
    "\n",
    "plt.plot(history.history['loss'], label='loss')\n",
    "plt.plot(history.history['val_loss'], label='val_loss')\n",
    "plt.xlabel('epochs')\n",
    "plt.ylabel('score')\n",
    "plt.legend(loc=\"best\")\n",
    "\n",
    "plt.grid(True)\n",
    "plt.tight_layout()\n",
    "plt.show()\n",
    "\n",
    "print(\"Train Accuracy for text to text model:\", model.evaluate(X_train, y_train))\n",
    "print(\"Test Accuracy for text to text model:\", model.evaluate(X_test, y_test))"
   ]
  },
  {
   "cell_type": "code",
   "execution_count": null,
   "id": "79da035d-ea10-453d-9086-a36800303daf",
   "metadata": {},
   "outputs": [
    {
     "name": "stdout",
     "output_type": "stream",
     "text": [
      "63/63 [==============================] - 1s 6ms/step\n",
      "Accuracy for image to text model: 0.9325\n"
     ]
    }
   ],
   "source": [
    "from sklearn.metrics import accuracy_score, classification_report, confusion_matrix\n",
    "predictions = model.predict(X_test)\n",
    "y_pred = [decode_labels(y) for y in predictions]\n",
    "y_actual = [decode_labels(y) for y in y_test]\n",
    "accuracy = accuracy_score(y_actual, y_pred)\n",
    "print(\"Accuracy for image to text model:\", accuracy)"
   ]
  },
  {
   "cell_type": "code",
   "execution_count": null,
   "id": "94ed6b38-a493-4cbc-8ca7-b3e7cd9cd9f5",
   "metadata": {},
   "outputs": [],
   "source": [
    "from tensorflow.keras.layers import GlobalAveragePooling2D,GlobalAveragePooling1D,ConvLSTM2D, BatchNormalization, Dropout,LayerNormalization\n",
    "from tensorflow.keras.optimizers import Adam\n",
    "from tensorflow.keras.callbacks import ReduceLROnPlateau\n",
    "from tensorflow.keras.regularizers import l2\n",
    "\n",
    "def build_img2text_withConv():\n",
    "    ## Your code\n",
    "    # We start by initializing a sequential model\n",
    "    img2text = keras.Sequential()\n",
    "\n",
    "    # \"Encode\" the input sequence using an RNN, producing an output of size 256.\n",
    "\n",
    "    # In this case the size of our input vectors is [5, 13] as we have queries of length 5 and 13 unique characters. Each of these 5 elements in the query will be fed to the network one by one,\n",
    "\n",
    "    # as shown in the image above (except with 5 elements).\n",
    "\n",
    "    # Hint: In other applications, where your input sequences have a variable length (e.g. sentences), you would use input_shape=(None, unique_characters).\n",
    "\n",
    "    img2text.add(\n",
    "        TimeDistributed(\n",
    "            Conv2D(\n",
    "                filters=512,\n",
    "                kernel_size=(3, 3),\n",
    "                padding=\"same\",\n",
    "                return_sequences=True,\n",
    "                activation=\"relu\", \n",
    "                input_shape=(5, 28, 28, 1), \n",
    "                kernel_regularizer=l2(0.01)\n",
    "            )\n",
    "        )\n",
    "    )\n",
    "    img2text.add(TimeDistributed(GlobalAveragePooling2D()))\n",
    "    img2text.add(BatchNormalization())\n",
    "    img2text.add(Dropout(0.2))\n",
    " \n",
    "    #img2text.add(Flatten())\n",
    "    \n",
    "    img2text.add(Dense(256, activation='relu'))\n",
    "    img2text.add(Dropout(0.2))\n",
    "    # As the decoder RNN's input, repeatedly provide with the last output of RNN for each time step. Repeat 3 times as that's the maximum length of the output (e.g. '  1-99' = '-98')\n",
    "\n",
    "    # when using 2-digit integers in queries. In other words, the RNN will always produce 3 characters as its output.\n",
    "    img2text.add(GlobalAveragePooling1D())\n",
    "    img2text.add(RepeatVector(max_answer_length))\n",
    "\n",
    "    # By setting return_sequences to True, return not only the last output but all the outputs so far in the form of (num_samples, timesteps, output_dim). \n",
    "    # This is necessary as TimeDistributed in the below expects the first dimension to be the timesteps.\n",
    "    img2text.add(LSTM(128, return_sequences=True))\n",
    "    img2text.add(LSTM(64, return_sequences=True))\n",
    "    img2text.add(LayerNormalization())\n",
    "\n",
    "    # Apply a dense layer to the every temporal slice of an input. For each of step of the output sequence, decide which character should be chosen.    \n",
    "    img2text.add(TimeDistributed(Dense(len(unique_characters), activation='softmax',kernel_regularizer=l2(0.01))))\n",
    "\n",
    "    # Next we compile the model using categorical crossentropy as our loss function.    \n",
    "    optimizer = Adam(learning_rate=0.001) \n",
    "    img2text.compile(loss='categorical_crossentropy', optimizer=optimizer, metrics=['accuracy'])\n",
    "\n",
    "    img2text.summary()\n",
    "\n",
    "    return img2text"
   ]
  },
  {
   "cell_type": "code",
   "execution_count": null,
   "id": "57559ca3-c4cc-4ca3-ad84-31315f7e1e06",
   "metadata": {},
   "outputs": [
    {
     "data": {
      "image/png": "[encoded data removed]",
      "text/plain": [
       "<Figure size 640x480 with 1 Axes>"
      ]
     },
     "metadata": {},
     "output_type": "display_data"
    }
   ],
   "source": [
    "import pandas as pd\n",
    "\n",
    "data_history = pd.DataFrame(history.history)\n",
    "data_history.to_csv('image_to_text_history.csv')\n",
    "plt.plot(history.history['loss'], label='loss')\n",
    "plt.plot(history.history['val_loss'], label='val_loss')\n",
    "plt.xlabel('epochs')\n",
    "plt.ylabel('score')\n",
    "plt.legend(loc=\"best\")\n",
    "\n",
    "\n",
    "plt.grid(True)\n",
    "plt.tight_layout()\n",
    "plt.show()"
   ]
  }
 ],
 "metadata": {
  "kernelspec": {
   "display_name": ".venv",
   "language": "python",
   "name": "python3"
  },
  "language_info": {
   "name": "python",
   "version": "3.10.7"
  }
 },
 "nbformat": 4,
 "nbformat_minor": 2
}
